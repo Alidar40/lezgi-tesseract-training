{
 "cells": [
  {
   "cell_type": "code",
   "execution_count": null,
   "id": "01b4b902-d8ed-49f1-a807-6a290f9f470e",
   "metadata": {
    "scrolled": true
   },
   "outputs": [],
   "source": [
    "!pip install -U datasets scikit-learn"
   ]
  },
  {
   "cell_type": "code",
   "execution_count": null,
   "id": "383b0324-139f-4112-93ef-a90dee7e229c",
   "metadata": {},
   "outputs": [],
   "source": [
    "!python3 -m pip install --index-url https://test.pypi.org/simple/ --no-dependencies lezgi-text"
   ]
  },
  {
   "cell_type": "code",
   "execution_count": null,
   "id": "2a12a784-3402-49a4-a295-a6e59f53d099",
   "metadata": {},
   "outputs": [],
   "source": [
    "!pip install fasttext-wheel nltk"
   ]
  },
  {
   "cell_type": "code",
   "execution_count": 4,
   "id": "485923f4-a12a-468b-a931-f2ba9347fb5f",
   "metadata": {},
   "outputs": [],
   "source": [
    "from pathlib import Path\n",
    "import random\n",
    "\n",
    "from datasets import load_dataset\n",
    "from lezgi_text import PALOCHKA, canonize_lez"
   ]
  },
  {
   "cell_type": "code",
   "execution_count": null,
   "id": "6545c9a4-4642-46fe-83b6-8c93b602d5b5",
   "metadata": {
    "scrolled": true
   },
   "outputs": [],
   "source": [
    "lezgi_periodicals_dataset = load_dataset(\"AlidarAsvarov/lezgi-periodicals\")"
   ]
  },
  {
   "cell_type": "code",
   "execution_count": 6,
   "id": "2bcc37f0-a1ff-4910-a1f4-2fe4129e3cab",
   "metadata": {
    "scrolled": true
   },
   "outputs": [],
   "source": [
    "texts = list()\n",
    "for source in lezgi_periodicals_dataset.keys():\n",
    "    texts.extend(lezgi_periodicals_dataset[source]['text'])"
   ]
  },
  {
   "cell_type": "code",
   "execution_count": 7,
   "id": "0a2b082b-8beb-4316-9784-a57cd5f62f04",
   "metadata": {},
   "outputs": [
    {
     "data": {
      "text/plain": [
       "103740"
      ]
     },
     "execution_count": 7,
     "metadata": {},
     "output_type": "execute_result"
    }
   ],
   "source": [
    "len(texts)"
   ]
  },
  {
   "cell_type": "code",
   "execution_count": 8,
   "id": "fb895568-813d-41da-9c5e-df9fa2ab1e5a",
   "metadata": {},
   "outputs": [],
   "source": [
    "words = set()\n",
    "for t in texts:\n",
    "    words.update(t.split())"
   ]
  },
  {
   "cell_type": "code",
   "execution_count": 9,
   "id": "79bd66b5-cb99-4b05-afbf-fffc5c0d4082",
   "metadata": {},
   "outputs": [
    {
     "data": {
      "text/plain": [
       "757827"
      ]
     },
     "execution_count": 9,
     "metadata": {},
     "output_type": "execute_result"
    }
   ],
   "source": [
    "len(words)"
   ]
  },
  {
   "cell_type": "code",
   "execution_count": 10,
   "id": "9e7b11ba-c61f-4755-b6c1-5a70b4aa780e",
   "metadata": {},
   "outputs": [],
   "source": [
    "# Since not all fonts support the Palochka character,\n",
    "# we replace the Palochka with the Latin I\n",
    "# to avoid font rendering errors,\n",
    "# After obtaining training images\n",
    "# one must put the Palochka back to its place.\n",
    "words = [canonize_lez(w).replace(PALOCHKA, 'I') for w in sorted(words)]"
   ]
  },
  {
   "cell_type": "code",
   "execution_count": 12,
   "id": "50b4184c-8d0b-470b-8994-8c0b39907996",
   "metadata": {},
   "outputs": [
    {
     "data": {
      "text/plain": [
       "8334626"
      ]
     },
     "execution_count": 12,
     "metadata": {},
     "output_type": "execute_result"
    }
   ],
   "source": [
    "Path(\"lez.wordlist\").write_text('\\n'.join(words))"
   ]
  },
  {
   "cell_type": "code",
   "execution_count": null,
   "id": "d8890a78-ca6c-4977-8b3a-7d727d267bce",
   "metadata": {},
   "outputs": [],
   "source": []
  }
 ],
 "metadata": {
  "kernelspec": {
   "display_name": "Python 3 (ipykernel)",
   "language": "python",
   "name": "python3"
  },
  "language_info": {
   "codemirror_mode": {
    "name": "ipython",
    "version": 3
   },
   "file_extension": ".py",
   "mimetype": "text/x-python",
   "name": "python",
   "nbconvert_exporter": "python",
   "pygments_lexer": "ipython3",
   "version": "3.12.3"
  }
 },
 "nbformat": 4,
 "nbformat_minor": 5
}
