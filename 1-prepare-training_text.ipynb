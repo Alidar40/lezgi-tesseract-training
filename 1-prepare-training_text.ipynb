{
 "cells": [
  {
   "cell_type": "code",
   "execution_count": null,
   "id": "01b4b902-d8ed-49f1-a807-6a290f9f470e",
   "metadata": {
    "scrolled": true
   },
   "outputs": [],
   "source": [
    "!pip install -U datasets scikit-learn"
   ]
  },
  {
   "cell_type": "code",
   "execution_count": null,
   "id": "383b0324-139f-4112-93ef-a90dee7e229c",
   "metadata": {},
   "outputs": [],
   "source": [
    "!python3 -m pip install --index-url https://test.pypi.org/simple/ --no-dependencies lezgi-text"
   ]
  },
  {
   "cell_type": "code",
   "execution_count": null,
   "id": "2a12a784-3402-49a4-a295-a6e59f53d099",
   "metadata": {},
   "outputs": [],
   "source": [
    "!pip install fasttext-wheel"
   ]
  },
  {
   "cell_type": "code",
   "execution_count": 56,
   "id": "485923f4-a12a-468b-a931-f2ba9347fb5f",
   "metadata": {},
   "outputs": [],
   "source": [
    "from pathlib import Path\n",
    "import random\n",
    "\n",
    "from datasets import load_dataset\n",
    "from sklearn.model_selection import train_test_split\n",
    "from lezgi_text import PALOCHKA, canonize_lez"
   ]
  },
  {
   "cell_type": "code",
   "execution_count": null,
   "id": "6545c9a4-4642-46fe-83b6-8c93b602d5b5",
   "metadata": {
    "scrolled": true
   },
   "outputs": [],
   "source": [
    "lezgi_periodicals_dataset = load_dataset(\"AlidarAsvarov/lezgi-periodicals\")"
   ]
  },
  {
   "cell_type": "code",
   "execution_count": null,
   "id": "e8324315-f80d-4147-bbd9-29fca5a4609f",
   "metadata": {},
   "outputs": [],
   "source": [
    "lezgi_periodicals_dataset"
   ]
  },
  {
   "cell_type": "code",
   "execution_count": 9,
   "id": "2bcc37f0-a1ff-4910-a1f4-2fe4129e3cab",
   "metadata": {
    "scrolled": true
   },
   "outputs": [],
   "source": [
    "texts = list()\n",
    "for source in lezgi_periodicals_dataset.keys():\n",
    "    texts.extend(lezgi_periodicals_dataset[source]['text'])"
   ]
  },
  {
   "cell_type": "code",
   "execution_count": 10,
   "id": "0a2b082b-8beb-4316-9784-a57cd5f62f04",
   "metadata": {},
   "outputs": [
    {
     "data": {
      "text/plain": [
       "103740"
      ]
     },
     "execution_count": 10,
     "metadata": {},
     "output_type": "execute_result"
    }
   ],
   "source": [
    "len(texts)"
   ]
  },
  {
   "cell_type": "code",
   "execution_count": 18,
   "id": "fb895568-813d-41da-9c5e-df9fa2ab1e5a",
   "metadata": {},
   "outputs": [],
   "source": [
    "words = set()\n",
    "for t in texts:\n",
    "    words.update(t.split())"
   ]
  },
  {
   "cell_type": "code",
   "execution_count": 19,
   "id": "79bd66b5-cb99-4b05-afbf-fffc5c0d4082",
   "metadata": {},
   "outputs": [
    {
     "data": {
      "text/plain": [
       "757827"
      ]
     },
     "execution_count": 19,
     "metadata": {},
     "output_type": "execute_result"
    }
   ],
   "source": [
    "len(words)"
   ]
  },
  {
   "cell_type": "code",
   "execution_count": 48,
   "id": "9e7b11ba-c61f-4755-b6c1-5a70b4aa780e",
   "metadata": {},
   "outputs": [],
   "source": [
    "# We replace the Palochka with the Latin I symbol\n",
    "# to avoid font rendering errors,\n",
    "# as not every font support the Palochka.\n",
    "# After obtaining training images\n",
    "# one must put back the Palochka\n",
    "words = [canonize_lez(w).replace(PALOCHKA, 'I') for w in sorted(words)]"
   ]
  },
  {
   "cell_type": "code",
   "execution_count": 49,
   "id": "f373a61f-1665-46f5-b759-9dfd6b4851bf",
   "metadata": {},
   "outputs": [],
   "source": [
    "train_words, test_words = train_test_split(words, test_size=50_000, random_state=1216)"
   ]
  },
  {
   "cell_type": "code",
   "execution_count": 50,
   "id": "33c5f62b-fc02-45d3-9736-aa28caf73889",
   "metadata": {},
   "outputs": [
    {
     "data": {
      "text/plain": [
       "(707827, 50000)"
      ]
     },
     "execution_count": 50,
     "metadata": {},
     "output_type": "execute_result"
    }
   ],
   "source": [
    "len(train_words), len(test_words)"
   ]
  },
  {
   "cell_type": "code",
   "execution_count": 53,
   "id": "d55a7c4d-b021-4672-aece-bdd98bb9e336",
   "metadata": {},
   "outputs": [
    {
     "data": {
      "text/plain": [
       "550638"
      ]
     },
     "execution_count": 53,
     "metadata": {},
     "output_type": "execute_result"
    }
   ],
   "source": [
    "Path(\"lez.wordlist\").write_text('\\n'.join(train_words))\n",
    "Path(\"lez.test.wordlist\").write_text('\\n'.join(test_words))"
   ]
  },
  {
   "cell_type": "code",
   "execution_count": 66,
   "id": "c8ce4755-b587-41e3-8c56-c1e28fd7f891",
   "metadata": {},
   "outputs": [],
   "source": [
    "def generate_lines_from_words(\n",
    "    words,\n",
    "    num_of_liens_to_generate,\n",
    "    min_line_length, max_line_length\n",
    "):\n",
    "    lines = list()\n",
    "    for i in range(num_of_liens_to_generate):\n",
    "        line_length = random.randint(min_line_length, max_line_length)\n",
    "        lines.append(' '.join(random.sample(words, k=line_length)))\n",
    "    return lines"
   ]
  },
  {
   "cell_type": "code",
   "execution_count": 69,
   "id": "af5eda4f-dd0d-41cd-a928-b1165966b511",
   "metadata": {},
   "outputs": [],
   "source": [
    "train_lines = generate_lines_from_words(train_words, 1_000_000, 3, 7)\n",
    "test_lines = generate_lines_from_words(test_words, 10_000, 3, 7)"
   ]
  },
  {
   "cell_type": "code",
   "execution_count": 70,
   "id": "6fbc4dcd-b15c-4230-b2ba-86cf39d2bff2",
   "metadata": {},
   "outputs": [
    {
     "data": {
      "text/plain": [
       "552172"
      ]
     },
     "execution_count": 70,
     "metadata": {},
     "output_type": "execute_result"
    }
   ],
   "source": [
    "Path(\"lez.training_text\").write_text('\\n'.join(train_lines))\n",
    "Path(\"lez.testing_text\").write_text('\\n'.join(test_lines))"
   ]
  },
  {
   "cell_type": "code",
   "execution_count": null,
   "id": "d8890a78-ca6c-4977-8b3a-7d727d267bce",
   "metadata": {},
   "outputs": [],
   "source": []
  }
 ],
 "metadata": {
  "kernelspec": {
   "display_name": "Python 3 (ipykernel)",
   "language": "python",
   "name": "python3"
  },
  "language_info": {
   "codemirror_mode": {
    "name": "ipython",
    "version": 3
   },
   "file_extension": ".py",
   "mimetype": "text/x-python",
   "name": "python",
   "nbconvert_exporter": "python",
   "pygments_lexer": "ipython3",
   "version": "3.10.15"
  }
 },
 "nbformat": 4,
 "nbformat_minor": 5
}
