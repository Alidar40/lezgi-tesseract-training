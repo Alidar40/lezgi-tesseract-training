{
 "cells": [
  {
   "cell_type": "code",
   "execution_count": null,
   "id": "8b1111b3-9141-4799-8dd6-5f1192a5e3f5",
   "metadata": {
    "scrolled": true
   },
   "outputs": [],
   "source": [
    "# Install tesseract\n",
    "!apt install -y tesseract-ocr libtesseract-dev make wget unzip"
   ]
  },
  {
   "cell_type": "code",
   "execution_count": null,
   "id": "9c7caca5-7390-4492-b156-6a6f9e85bd93",
   "metadata": {},
   "outputs": [],
   "source": [
    "# Get pre-trained model for Russian language\n",
    "!wget https://github.com/tesseract-ocr/tessdata_best/raw/refs/heads/main/rus.traineddata"
   ]
  },
  {
   "cell_type": "code",
   "execution_count": null,
   "id": "784a27e7-d647-4084-9638-42277062a8b5",
   "metadata": {},
   "outputs": [],
   "source": [
    "# Get trainning scripts\n",
    "!git clone https://github.com/tesseract-ocr/tesstrain.git"
   ]
  },
  {
   "cell_type": "code",
   "execution_count": null,
   "id": "8d0b0de8-7bb2-49ea-85dc-121f700a8c70",
   "metadata": {
    "scrolled": true
   },
   "outputs": [],
   "source": [
    "!cd tesstrain && pip install -r requirements.txt"
   ]
  },
  {
   "cell_type": "code",
   "execution_count": null,
   "id": "e1b60046-7a3c-4745-b1db-8cb98f253826",
   "metadata": {
    "scrolled": true
   },
   "outputs": [],
   "source": [
    "!cd tesstrain && make tesseract-langdata DATA_DIR=\"/root/lezgi-tesseract\""
   ]
  },
  {
   "cell_type": "code",
   "execution_count": null,
   "id": "9e18ce85-c7f8-416f-8e49-36f2d5566e51",
   "metadata": {},
   "outputs": [],
   "source": [
    "# Start training\n",
    "# Better run in terminal\n",
    "!cd tesstrain && make training \\\n",
    "    MODEL_NAME=lez \\\n",
    "    DATA_DIR=\"/root/lezgi-tesseract\" \\\n",
    "    START_MODEL=rus TESSDATA=/root/lezgi-tesseract/ \\\n",
    "    RATIO_TRAIN=0.90 \\\n",
    "    MAX_ITERATIONS=1000 \\\n",
    "    RANDOM_SEED=1216"
   ]
  },
  {
   "cell_type": "code",
   "execution_count": null,
   "id": "5d884606-8bfd-4c65-859f-4f8c7a8e898d",
   "metadata": {},
   "outputs": [],
   "source": [
    "!cd tesstrain && make traineddata \\\n",
    "    MODEL_NAME=lez \\\n",
    "    DATA_DIR=\"/root/lezgi-tesseract\""
   ]
  },
  {
   "cell_type": "code",
   "execution_count": null,
   "id": "44fe7ac4-a926-44ca-af77-115726fc4d42",
   "metadata": {},
   "outputs": [],
   "source": [
    "!cd tesstrain && make plot \\\n",
    "    MODEL_NAME=lez \\\n",
    "    DATA_DIR=\"/root/lezgi-tesseract\""
   ]
  }
 ],
 "metadata": {
  "kernelspec": {
   "display_name": "Python 3 (ipykernel)",
   "language": "python",
   "name": "python3"
  },
  "language_info": {
   "codemirror_mode": {
    "name": "ipython",
    "version": 3
   },
   "file_extension": ".py",
   "mimetype": "text/x-python",
   "name": "python",
   "nbconvert_exporter": "python",
   "pygments_lexer": "ipython3",
   "version": "3.12.3"
  }
 },
 "nbformat": 4,
 "nbformat_minor": 5
}
