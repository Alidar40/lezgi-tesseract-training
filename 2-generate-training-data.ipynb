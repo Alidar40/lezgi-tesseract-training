{
 "cells": [
  {
   "cell_type": "code",
   "execution_count": null,
   "id": "8cd17259-824a-4c3c-baec-b011e1203ed8",
   "metadata": {
    "scrolled": true
   },
   "outputs": [],
   "source": [
    "# install trdg data generator\n",
    "!pip install trdg"
   ]
  },
  {
   "cell_type": "code",
   "execution_count": 2,
   "id": "d37eaecb-6586-4816-87af-887d75df41e5",
   "metadata": {},
   "outputs": [],
   "source": [
    "# put your fonts in fonts/ directory"
   ]
  },
  {
   "cell_type": "code",
   "execution_count": 5,
   "id": "f2fc556c-55ac-4670-bff3-a683e3bf1896",
   "metadata": {},
   "outputs": [
    {
     "name": "stdout",
     "output_type": "stream",
     "text": [
      "'Arial Bold Italic.ttf'        'Georgia Bold Italic.ttf'\n",
      "'Arial Bold.ttf'\t       'Georgia Bold.ttf'\n",
      "'Arial Italic.ttf'\t       'Georgia Italic.ttf'\n",
      " Arial.ttf\t\t        Georgia.ttf\n",
      "'Courier New Bold Italic.ttf'  'Times New Roman Bold Italic.ttf'\n",
      "'Courier New Bold.ttf'\t       'Times New Roman Bold.ttf'\n",
      "'Courier New Italic.ttf'       'Times New Roman Italic.ttf'\n",
      "'Courier New.ttf'\t       'Times New Roman.ttf'\n",
      " DejaVuSans-Bold.ttf\t       'Trebuchet MS Bold Italic.ttf'\n",
      " DejaVuSans-BoldOblique.ttf    'Trebuchet MS Bold.ttf'\n",
      " DejaVuSans-Oblique.ttf        'Trebuchet MS Italic.ttf'\n",
      " DejaVuSans.ttf\t\t       'Trebuchet MS.ttf'\n",
      " DejaVuSerif-Bold.ttf\t       'Verdana Bold Italic.ttf'\n",
      " DejaVuSerif-BoldItalic.ttf    'Verdana Bold.ttf'\n",
      " DejaVuSerif-Italic.ttf        'Verdana Italic.ttf'\n",
      " DejaVuSerif.ttf\t        Verdana.ttf\n"
     ]
    }
   ],
   "source": [
    "# fonts that I used:\n",
    "!ls ./fonts"
   ]
  },
  {
   "cell_type": "code",
   "execution_count": null,
   "id": "ac34f8e9-87f7-493d-bda7-676e39cd72ce",
   "metadata": {},
   "outputs": [],
   "source": [
    "# Generate 100k training pairs.\n",
    "# Adjust the script for your use case.\n",
    "# Better run in terminal\n",
    "!trdg -c 100000 \\\n",
    "    --dict lez.wordlist \\\n",
    "    -r -w 7 \\\n",
    "    --output_dir \"./lez-ground-truth\" \\\n",
    "    --name_format 2 -e png \\\n",
    "    --thread_count 8 \\\n",
    "    --font_dir \"./fonts\" \\\n",
    "    --background 0 \\\n",
    "    # --output_bboxes 2 \\\n",
    "    # --distorsion 2 --distorsion_orientation 0 \\\n",
    "    # --width\n",
    "    # --skew_angle 2 --random_skew \\\n",
    "    # --blur 1 --random_blur \\"
   ]
  },
  {
   "cell_type": "code",
   "execution_count": 9,
   "id": "a2cd21fb-9c06-41fa-a41a-ee9b5ebd8eb6",
   "metadata": {},
   "outputs": [
    {
     "data": {
      "application/vnd.jupyter.widget-view+json": {
       "model_id": "3585833d59dd4c8f9dc9f73ce8928143",
       "version_major": 2,
       "version_minor": 0
      },
      "text/plain": [
       "  0%|          | 0/100000 [00:00<?, ?it/s]"
      ]
     },
     "metadata": {},
     "output_type": "display_data"
    }
   ],
   "source": [
    "# Convert text data to tesseract format\n",
    "# and put back the palochka\n",
    "\n",
    "from pathlib import Path\n",
    "\n",
    "from tqdm.auto import tqdm\n",
    "from lezgi_text import canonize_lez\n",
    "\n",
    "\n",
    "# The path is defined in run_trdg.sh\n",
    "trdg_output_dir = Path(\"./lez-ground-truth\")\n",
    "\n",
    "labels_txt_path = trdg_output_dir/ \"labels.txt\"\n",
    "\n",
    "for line in tqdm(labels_txt_path.read_text().strip().split(\"\\n\")):\n",
    "    img_name, text = line.split(' ', 1)\n",
    "    txt_name = Path(img_name).stem\n",
    "\n",
    "    output_txt_path = trdg_output_dir / f\"{txt_name}.gt.txt\"\n",
    "\n",
    "    # Don't forget to put the Palochka back\n",
    "    output_txt_path.write_text(canonize_lez(text))"
   ]
  },
  {
   "cell_type": "code",
   "execution_count": null,
   "id": "69a3cafe-7fe0-4273-adf4-e0f34d04e95f",
   "metadata": {},
   "outputs": [],
   "source": []
  }
 ],
 "metadata": {
  "kernelspec": {
   "display_name": "Python 3 (ipykernel)",
   "language": "python",
   "name": "python3"
  },
  "language_info": {
   "codemirror_mode": {
    "name": "ipython",
    "version": 3
   },
   "file_extension": ".py",
   "mimetype": "text/x-python",
   "name": "python",
   "nbconvert_exporter": "python",
   "pygments_lexer": "ipython3",
   "version": "3.12.3"
  }
 },
 "nbformat": 4,
 "nbformat_minor": 5
}
